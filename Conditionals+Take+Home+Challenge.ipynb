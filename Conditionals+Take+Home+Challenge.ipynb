{
  "nbformat": 4,
  "nbformat_minor": 0,
  "metadata": {
    "kernelspec": {
      "display_name": "Python [conda root]",
      "language": "python",
      "name": "conda-root-py"
    },
    "language_info": {
      "codemirror_mode": {
        "name": "ipython",
        "version": 3
      },
      "file_extension": ".py",
      "mimetype": "text/x-python",
      "name": "python",
      "nbconvert_exporter": "python",
      "pygments_lexer": "ipython3",
      "version": "3.5.2"
    },
    "colab": {
      "name": "Conditionals+Take+Home+Challenge.ipynb",
      "provenance": [],
      "include_colab_link": true
    }
  },
  "cells": [
    {
      "cell_type": "markdown",
      "metadata": {
        "id": "view-in-github",
        "colab_type": "text"
      },
      "source": [
        "<a href=\"https://colab.research.google.com/github/Ritnoel/My_projects/blob/master/Conditionals%2BTake%2BHome%2BChallenge.ipynb\" target=\"_parent\"><img src=\"https://colab.research.google.com/assets/colab-badge.svg\" alt=\"Open In Colab\"/></a>"
      ]
    },
    {
      "cell_type": "markdown",
      "metadata": {
        "id": "88gILiUHPUKI"
      },
      "source": [
        "<img src=\"Downloads/learning-logo-transparent.png\">"
      ]
    },
    {
      "cell_type": "markdown",
      "metadata": {
        "id": "H4Cj5j2UPUKL"
      },
      "source": [
        "#### Question 1\n",
        "Write a function which gives grades to students according to how they scored in an exam, depending on the subject.\n",
        "\n",
        "###### English:\n",
        "75%+       :   A \n",
        "\n",
        "65 - 74%   :   B\n",
        "\n",
        "50 - 64%   :   C\n",
        "\n",
        "40 - 49%   :   D\n",
        "\n",
        "20 - 39%   :   E\n",
        "\n",
        "0  - 19%   :   F\n",
        "\n",
        "\n",
        "###### Math:\n",
        "\n",
        "80%+       :   A \n",
        "\n",
        "65 - 79%   :   B\n",
        "\n",
        "50 - 64%   :   C\n",
        "\n",
        "40 - 49%   :   D\n",
        "\n",
        "30 - 39%   :   E\n",
        "\n",
        "0  - 29%   :   F"
      ]
    },
    {
      "cell_type": "code",
      "metadata": {
        "id": "HpuEdio7PUKN",
        "outputId": "7cefdef9-0483-4b21-b887-a7844d3a76ba"
      },
      "source": [
        "#answer\n",
        "def exam (subject,grade):\n",
        "    if subject.lower() == 'english':\n",
        "        if grade >= 75:\n",
        "            return '{}: A'.format(subject)\n",
        "        elif grade > 64 and grade < 75:\n",
        "            return '{}: B'.format(subject)\n",
        "        elif grade > 49 and grade < 65:\n",
        "            return '{}: C'.format(subject)\n",
        "        elif grade > 39 and grade < 50:\n",
        "            return '{}: D'.format(subject)\n",
        "        elif grade > 19 and grade < 40:\n",
        "            return '{}: E'.format(subject)\n",
        "        else:\n",
        "            return '{}: F'.format(subject)\n",
        "    else:\n",
        "        if grade >= 80:\n",
        "            return '{}: A'.format(subject)\n",
        "        elif grade > 64 and grade < 80:\n",
        "            return '{}: B'.format(subject)\n",
        "        elif grade > 49 and grade < 65:\n",
        "            return '{}: C'.format(subject)\n",
        "        elif grade > 39 and grade < 50:\n",
        "            return '{}: D'.format(subject)\n",
        "        elif grade > 29 and grade < 40:\n",
        "            return '{}: E'.format(subject)\n",
        "        else:\n",
        "            return '{}: F'.format(subject)"
      ],
      "execution_count": null,
      "outputs": [
        {
          "output_type": "execute_result",
          "data": {
            "text/plain": [
              "'Math: A'"
            ]
          },
          "metadata": {
            "tags": []
          },
          "execution_count": 8
        }
      ]
    },
    {
      "cell_type": "markdown",
      "metadata": {
        "id": "QofTaCpdPUKW"
      },
      "source": [
        "#### Question 2\n",
        "\n",
        "Create a custom function that works as a translator taking in an argument of an english word and returns the equivalent word or phrase in a language of your choosing. You should be able to use this function to translate at least 5 english words or phrases.\n",
        "\n",
        "For example if you choose to build a function translating english words to french, the word hello would return the output 'bonjour'"
      ]
    },
    {
      "cell_type": "code",
      "metadata": {
        "id": "dT_EYTU1PUKX",
        "outputId": "75680901-cffe-45ce-8f35-4224631f21c4"
      },
      "source": [
        "#answer\n",
        "def translate(word):\n",
        "    translate = {'hello':'bonjour','love':'amour',\n",
        "                 'hate':'haine','start':'début','end':'fin'}\n",
        "    if word in translate:\n",
        "        return translate.get(word.lower())\n",
        "    else:\n",
        "        return 'Please enter one of the following words {}'.format([_ for _ in translate])\n",
        "translate('hello')"
      ],
      "execution_count": null,
      "outputs": [
        {
          "output_type": "execute_result",
          "data": {
            "text/plain": [
              "'bonjour'"
            ]
          },
          "metadata": {
            "tags": []
          },
          "execution_count": 20
        }
      ]
    },
    {
      "cell_type": "markdown",
      "metadata": {
        "id": "awQeZKoePUKc"
      },
      "source": [
        "#### Question 3\n",
        "\n",
        "For numbers between 2000 and 2200 return all numbers divisible by 3 or 5 but not by 2. Return these numbers as a list, bonus points if you can write this out in one line of code."
      ]
    },
    {
      "cell_type": "code",
      "metadata": {
        "id": "NcdJRpk1PUKd",
        "outputId": "19f4b83c-c237-4052-d1ab-53025af6b2f0"
      },
      "source": [
        "#answer\n",
        "[_ for _ in range(2000,2200) if (_%_%3==0 or i%5==0) and _%2!=0]"
      ],
      "execution_count": null,
      "outputs": [
        {
          "output_type": "execute_result",
          "data": {
            "text/plain": [
              "669.0"
            ]
          },
          "metadata": {
            "tags": []
          },
          "execution_count": 27
        }
      ]
    },
    {
      "cell_type": "markdown",
      "metadata": {
        "id": "JYFg-R0SPUKh"
      },
      "source": [
        "#### Question 4\n",
        "\n",
        "Create a function that takes in some input (a person's year of birth) and then returns a person's age and their generation.\n",
        "\n",
        "For example if a person's birth year is 2000 your function would return something along the line of 'You are 20 years old and belong to Generation Z\n",
        "\n",
        "##### Index\n",
        "\n",
        "Boomers: 1946–1964\n",
        "\n",
        "Gen X: 1965–1976\n",
        "\n",
        "Millennials: 1977–1995\n",
        "\n",
        "Gen Z: 1996–TBD"
      ]
    },
    {
      "cell_type": "code",
      "metadata": {
        "id": "fJ_UkEJUPUKi",
        "outputId": "2c99ade1-c080-4e2a-bce0-1a326c6560c5"
      },
      "source": [
        "#answer\n",
        "def age_function(age):\n",
        "    if age in range(1946,1965):\n",
        "        return 'You are {} years old are a boomer'.format(2020-age)\n",
        "    elif age in range(1965,1977):\n",
        "        return 'You are {} years old are a Gen X'.format(2020-age)\n",
        "    elif age in range(1977,1996):\n",
        "        return 'You are {} years old are a Millenial'.format(2020-age)\n",
        "    elif age >= 1996:\n",
        "        return 'You are {} years old are a Gen Z'.format(2020-age)\n",
        "age_function(1998)"
      ],
      "execution_count": null,
      "outputs": [
        {
          "output_type": "execute_result",
          "data": {
            "text/plain": [
              "'You are 22 years old are a Gen Z'"
            ]
          },
          "metadata": {
            "tags": []
          },
          "execution_count": 33
        }
      ]
    },
    {
      "cell_type": "markdown",
      "metadata": {
        "id": "aatdER4cPUKn"
      },
      "source": [
        "#### Question 5\n",
        "\n",
        "Create a custom function that takes in 4 parameters with each parameter representing total spend for the week. Your function should return \n",
        "- the total amount spent during the month\n",
        "- whether you went over budget in any of the weeks. Assuming your weekly budget is $200\n",
        "- text indicating the weeks you went over budget (and by how much you went over budget in that particular week)\n"
      ]
    },
    {
      "cell_type": "code",
      "metadata": {
        "id": "Ll4_aWXlPUKr",
        "outputId": "e8a40db5-5397-4a14-d2e8-090978b4d685"
      },
      "source": [
        "#answer\n",
        "def budget(args):\n",
        "    over_budget = [i for i in args if i > 200]\n",
        "    if  min(over_budget) > 200:\n",
        "            a =  [i+1 for i, x in enumerate(args) if x > 200]\n",
        "            b = 800 - sum(args) \n",
        "            if sum(args) > 800:\n",
        "                return 'Week(s){} went over budget, you went overbudget by ${}'.format(a,b)\n",
        "            else:\n",
        "                return 'Week(s){} went over budget, you monthly budget is ${}'.format(a,sum(args))            \n",
        "    else:\n",
        "        return 'Your monthly budget was ${}'.format(sum(args))\n",
        "budget([201,200,200,200])"
      ],
      "execution_count": null,
      "outputs": [
        {
          "output_type": "execute_result",
          "data": {
            "text/plain": [
              "'Week(s)[1] went over budget, you went overbudget by $-1'"
            ]
          },
          "metadata": {
            "tags": []
          },
          "execution_count": 88
        }
      ]
    },
    {
      "cell_type": "markdown",
      "metadata": {
        "id": "HJ3yDI9LPUKy"
      },
      "source": [
        "#### Question 6 \n",
        "\n",
        "For numbers between 1 and 20 while the number is divisible by 2 print the number. Use a while statement to execute this command"
      ]
    },
    {
      "cell_type": "code",
      "metadata": {
        "id": "9DmUEpQrPUKz",
        "outputId": "e31a307b-6810-43fa-f8f7-ae312669e6f0"
      },
      "source": [
        "#answer\n",
        "for i in range(1,21):\n",
        "    while i % 2 == 0:\n",
        "        print(i)\n",
        "        i +=1"
      ],
      "execution_count": null,
      "outputs": [
        {
          "output_type": "stream",
          "text": [
            "2\n",
            "4\n",
            "6\n",
            "8\n",
            "10\n",
            "12\n",
            "14\n",
            "16\n",
            "18\n",
            "20\n"
          ],
          "name": "stdout"
        }
      ]
    },
    {
      "cell_type": "code",
      "metadata": {
        "id": "D8iaEfZ5PUK6"
      },
      "source": [
        ""
      ],
      "execution_count": null,
      "outputs": []
    }
  ]
}