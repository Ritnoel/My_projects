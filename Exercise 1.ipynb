{
 "cells": [
  {
   "cell_type": "markdown",
   "metadata": {},
   "source": [
    "# Exercises Questions\n"
   ]
  },
  {
   "cell_type": "markdown",
   "metadata": {},
   "source": [
    "Please answer the questions using this notebook and submit the complete notebook in a GitHub repository dedicated to exercises you will complete through the duration of this course.\n",
    "\n",
    "You can read about more about creating a GitHub repository here: https://help.github.com/en/github/getting-started-with-github/create-a-repo"
   ]
  },
  {
   "cell_type": "markdown",
   "metadata": {},
   "source": [
    "## Question 1"
   ]
  },
  {
   "cell_type": "code",
   "execution_count": 23,
   "metadata": {},
   "outputs": [
    {
     "data": {
      "text/plain": [
       "357147059995435354654530897716123557915184666459884422451898081873326673831982869911708126066804132570524082737361859732255853510658839066088781437603250020235681843374835363117139412241375483925954806290456991333996598271478915407101629937765602510945258875657694681547601206823042123452944468630182944920774858298743211032432155188348192460842899637241237297631462200933037019120227941623132653541151227130539134658521852880608166214070509815198328750224219353030578224497585011462545962987439852148071873961034848892931757830548057588783800953393530459250328525901900835290612909600154777150957259975708372712699045424691055257098843593893119591403562699024150482791408461793720632782560312443160665975392245632720255710503919363010556847459476802527525343314799136179469098191417393439230532553636612253950059564592680032465652450426364829081652865593337473048031816273414707504500633957895903493446612629018775894905625713094679188998229044368347628301302428589597587502735234371218386674865385677804888715885652491623928260306290406363610853072213518768680888797366045501529298469993824217698764808541407686633226718257913473977420435896353081204274679131669043315856037033508895572330215247734881561873856842849717107492025758655388557151415030432290148087297256537407310562389969965653409410243487855075419067388274526533867947944449872616242543324064508843143360981572823794426890999325944615521265025539234949095779705088148994023209736508723120697610551586616092025897081693133731468812871487184080012047818476211993301693716013133401778923545412967555649073817613290490095818206194026703707995140680018127960006777712765288573053893071503655730796890806371095685438802157755709583480494896798064272053961842973303950574970405366539483019190247473349479333939771675325542869532826069698101295065467117881936004518824840204832976374823343653110282108764649420175517881497123228837128756759789164726156969526868851984369621430687050907774653332924078644249083030090236994034455966723312854250207263575350159256948634536211870127054278901049998650059107780215385536475065125263674529952018954584622070547125745939863493231225081856816829123622827312731553002576369056230464306393411174393080168727096421835219491924325482400150855883227317448532569469950076046968342123576663523564748446577937707300815929736084925854043793712798195252435241360978535292858946137989168989742350042338588691139598456004665922148114200425890157927775047067661323827465460782780404832717378605737856795296839357025551651551231962994459610294708561766536941321744933685085308379924578045702615001874705538601972349459526330424214148314013173729275081572016334037749284779494654764772679338870940545223419751031900898680665129368027370871605410475506124879229238314002904608833464200500918859493218675361571716140248784498513758704839573914573739751375402220242327954654028013497352025715177468675314388272664888623543963099332378657983047955728861543049018953412978741076486947059919522118472044130804201500062486621036496294057178081325178600838511299401960972555578082845812955340637541636309706451324270926929246963472343730907097598826222821864274214507967751530252751694344563230859866589565528861122458510983128506546316598585653238049183542502065813397581652645607886270686865167579266051392565628062347262443582455544515046723176531946117023336774779391896008707175115983895917627562788714124732233311749925781307597353436756592545827582445871091101579567724955322757882899555215738493148940438177306498347557760646297189141958192098358383961633133121720664556884728494735179044558114958520424474379523825425328817655431869959310464143863279711943929514401984452023826371378614739830243784921128278905644449992979696185555904401200958340701617861353842156549313101409941365703351024205869268444860118131083245868590804563879156398021813862628261258320750122738500138093193312028363853711722915935643193950733082239220597260117472438154900609944360127915043038506328584874604853041505282721993786661279135705779581739611798827346198908887592315310259177397677036761257375269327887255327432256336871349409352425132026829454092139156634489796057512994590608705434433798289060074790601769297670663148003202894454263375275646545216238329556736840577159665610353774523736557022534232354771896430226573435801722462594433588299080317791613095947628559292127394599662670965797594058052150141492185616271894447287399736988634787489571733061355278066053765837461915214879697049084067213247909670888655494434214816191476157482931567497122420324941090866571591782490695177665304769802988641152179363354958800907548487027315578473825193688290759778992996142587385349131544390390673620663435521322090240313155785123596300386589650433837358479690432126987983232424902948529106957404036170347658750707586997317860367615911734444852633318448194400597487119060667704352934527178623652644942913955831470683063999388600361669412973502308797959335743855076254884732999115924300223160094966780451756030996768948261280644445491461150252736267361769748884779685644019033406548731755156240366562714435210944134123987512478276709526852621856863958359045551024129856619780810975970490562419032109385178387879280339159271642124665272148070444283830993532254731635518743013409592542128090519989871276160048175389788293720056136724295903545480420268127187573348350475539334621421317689590721838692971015918911936652167438052357599282996068301370276496770470879895204095831985045126306752832173557983461342529299599272566037813897401836345500558622585802937600163210458918976029816743462181711259033586132847789718692573181807080544185726246019167062617680599351643611666949867851494400264668748689868670928989653893404848808121347185097462324069517757887017280241522386243738781856374350539767241935665791000143838044436184229038655083770614536004028025885091287459195293261150603037520562220504545265865795635551387329428648521760865068395754084602266455141960831048064293276239128789654832366088697763997762466548646375250417632542137032430591392972513329210098727684981466277900163424737673785273323184096942323799103261357832303246568395834430254438246706510267439689852217819181265114495716044924451264201084351439924229939887027925338507368528456188395069336015149951808277166194704927377646392101617584707367766239038789538898566122189671952095640113668155558696510972391978046443092059772211983884899466118033979672199125493323827803652352122156338113209238424668595246709703208197861484273144847093159228104627791588578516087259794165404599575023826521387491446324488801804744188935950846557518336631536076525839429715094017050591249530673287483066396713741605445881126912393642425307092616474226144935443249162861310458942254564445310541977512896526237232979475661676313473937023049474858839666219884877845800125684773729861873529262011697209745529463655557753242186521689309345837884397279969064856494737402071434618032475247251479178323930630449872370747833945511307139663654456872645931822245761403640597301892411494303424195736135795218306010397290004937936586223339772112318852857239363641109552773817114368732999035165320239421372983182088157605551373505203276635230439774471365885733431927338871225649689428809198906874339848762003110093165880436258347404776896382073815635145933323860227212681055593094012021889463765471016822180030338362158413093483266304381670138287351660266562785603309973320926439294388999707584921299011569803862139111796001832906289513396387530649830066437598542426736713841529789964562970871484534096139080915313702398404688497269768310186721936921744503117193020492054353036773246623428874978756115584374877339066114407140367230345204998067655922906874325366768033633328688917645572926379214245714442043561224424993222726191728825149580219240092554497434420415401192180508924712867139499647170775409193533433572701661261650016742306023014491445710808501038760032746267008629244583569986252064422081761385796141249346754900140664421618179375662944907803252879580230243235677088046922285551639196309408075910185636956407682308877125838460497067542009920061680153748500196881448394627899023252201427245098787981030076276676860544844301442536879607521499675334632157846134654345891851892362568135694894090158699752035462439557302741409885894163030667674750033357909293376684308358878010923798175554977152556941884267047994405791753874565265481990186131778780802325112982599161286811637699039994316836669084127631903863484229968900138956121278813613679570178852632643039522446801880288888177211264804593558399816839719071870463189873516829255656759411713105642152929463025642660604372812380844750251267493355664685802196433858348877798482078397221312274059978846107436868591098452244976456073746638045319951111058690944181336191909020201853366250560665163736202219581369487773268308927386065933014642609672317149768572964695421954823618148364866318466665210955019769116090003107108195342484207758291793583738239416482825242192700029085642707061218355017936321539069281623713496814134977375924273369"
      ]
     },
     "execution_count": 23,
     "metadata": {},
     "output_type": "execute_result"
    }
   ],
   "source": [
    "#only run this once as it will generate a random integer each time it is run\n",
    "import random \n",
    "nums = random.randint(10**5000,10**9000)\n",
    "nums"
   ]
  },
  {
   "cell_type": "markdown",
   "metadata": {},
   "source": [
    "Find the sum of all the numbers in variable 'nums', and then find the sum of the first 5 digits of this number. Notice that nums is an integer, think about how you can iterate through an integer or alternatively if you may need to convert this into a different data type. If you are stuck initially start off by noting the error message you are receiving to guide your solution, if this fails post your questions on Slack and someone will help guide you to the correct answer"
   ]
  },
  {
   "cell_type": "code",
   "execution_count": 25,
   "metadata": {},
   "outputs": [
    {
     "name": "stdout",
     "output_type": "stream",
     "text": [
      "40767\n"
     ]
    }
   ],
   "source": [
    "val = list(str(nums))\n",
    "add = 0\n",
    "for n in val:\n",
    "    add += int(n)\n",
    "print(add)\n"
   ]
  },
  {
   "cell_type": "code",
   "execution_count": 29,
   "metadata": {},
   "outputs": [
    {
     "name": "stdout",
     "output_type": "stream",
     "text": [
      "20\n"
     ]
    }
   ],
   "source": [
    "val = list(str(nums))\n",
    "add = 0\n",
    "count = 0\n",
    "for n in val:\n",
    "    add += int(n)\n",
    "    count += 1\n",
    "    if count == 5:\n",
    "        break\n",
    "print(add)"
   ]
  },
  {
   "cell_type": "code",
   "execution_count": 63,
   "metadata": {},
   "outputs": [
    {
     "data": {
      "text/plain": [
       "[8,\n",
       " 7,\n",
       " 3,\n",
       " 5,\n",
       " 4,\n",
       " 0,\n",
       " 2,\n",
       " 4,\n",
       " 1,\n",
       " 5,\n",
       " 8,\n",
       " 3,\n",
       " 0,\n",
       " 3,\n",
       " 8,\n",
       " 2,\n",
       " 9,\n",
       " 1,\n",
       " 10,\n",
       " 8,\n",
       " 10,\n",
       " 6,\n",
       " 10,\n",
       " 6,\n",
       " 4,\n",
       " 0,\n",
       " 3,\n",
       " 3,\n",
       " 7,\n",
       " 6,\n",
       " 7,\n",
       " 2,\n",
       " 7,\n",
       " 5,\n",
       " 5,\n",
       " 9,\n",
       " 2,\n",
       " 10,\n",
       " 6,\n",
       " 9,\n",
       " 1,\n",
       " 2,\n",
       " 5,\n",
       " 9,\n",
       " 3,\n",
       " 7,\n",
       " 6,\n",
       " 6,\n",
       " 1,\n",
       " 6]"
      ]
     },
     "execution_count": 63,
     "metadata": {},
     "output_type": "execute_result"
    }
   ],
   "source": [
    "list_nums = [random.randint(0,10) for iter in range(50)]\n",
    "list_nums"
   ]
  },
  {
   "cell_type": "markdown",
   "metadata": {},
   "source": [
    "Print out a list of numbers in list_nums of numbers that are less than or equals to 4. Write the solution out in one line"
   ]
  },
  {
   "cell_type": "code",
   "execution_count": 66,
   "metadata": {},
   "outputs": [
    {
     "name": "stdout",
     "output_type": "stream",
     "text": [
      "[3, 4, 0, 2, 4, 1, 3, 0, 3, 2, 1, 4, 0, 3, 3, 2, 2, 1, 2, 3, 1]\n"
     ]
    }
   ],
   "source": [
    "print([numb for numb in list_nums if numb <= 4])"
   ]
  },
  {
   "cell_type": "markdown",
   "metadata": {},
   "source": [
    "## Question 3"
   ]
  },
  {
   "cell_type": "markdown",
   "metadata": {},
   "source": [
    "Write a program to generate a dictionary that contains (i, i*i) such that if the value 8 is assigned to the variable input_var your dictionary should generate the following output:\n",
    "\n",
    "{1:1, 2:4, 3:9, 4:16, 5:25, 6:36, 7:49, 8:64}"
   ]
  },
  {
   "cell_type": "code",
   "execution_count": 55,
   "metadata": {},
   "outputs": [],
   "source": [
    "input_var = random.randint(5,20)"
   ]
  },
  {
   "cell_type": "code",
   "execution_count": 80,
   "metadata": {},
   "outputs": [
    {
     "name": "stdout",
     "output_type": "stream",
     "text": [
      "Enter a number:8\n",
      "{1: 1, 2: 4, 3: 9, 4: 16, 5: 25, 6: 36, 7: 49, 8: 64}\n"
     ]
    }
   ],
   "source": [
    "Ourdict = {}\n",
    "var = input(\"Enter a number:\")\n",
    "for x in range(1, num + 1):\n",
    "    Ourdict[x] = x * x\n",
    "print(Ourdict)    "
   ]
  },
  {
   "cell_type": "markdown",
   "metadata": {},
   "source": [
    "## Question 4"
   ]
  },
  {
   "cell_type": "markdown",
   "metadata": {},
   "source": [
    "You are driving along the N1 a little faster than you should be and a police officer stops your vehicle. Write a function that will compute the fine you will be required to pay depending on how fast you were travelling. For each 10kilometres above the limit you will be required to pay R50 on top of a base fine of R1000. \n",
    "\n",
    "Limitations:\n",
    "* the speed limit is 80km/hr\n",
    "* Prior offenses affect the fine you will be required to pay. If you have a single prior driving offence you will be required to pay 25% more for each 10 km/hr over the speed limit, if you have two prior offences you will be required to pay 40% more and if you have 3 or more prior offences you will be required to pay 60% more.\n",
    "\n"
   ]
  },
  {
   "cell_type": "code",
   "execution_count": 61,
   "metadata": {},
   "outputs": [],
   "source": [
    "#Base fine = R1000\n",
    "#Speed limit = 80km/hr\n",
    "#for each 10km above limit youll pay R50 on top of the base fine i.e 90km = R1050, 100km = R1100, 110km = R1150..."
   ]
  },
  {
   "cell_type": "code",
   "execution_count": 37,
   "metadata": {},
   "outputs": [
    {
     "name": "stdout",
     "output_type": "stream",
     "text": [
      "Please enter the number of prior offences 1\n",
      "Please enter the offender speed 90\n",
      "1062.5\n"
     ]
    }
   ],
   "source": [
    "'''speed_limit = 80\n",
    "prior_offences = eval(input('Please enter the number of prior offences '))\n",
    "offender_speed = eval(input('Please enter the offender speed '))\n",
    "Base_fine = 1000\n",
    "\n",
    "difference = offender_speed - speed_limit\n",
    "rat = difference/10\n",
    "extra = rat*50\n",
    "\n",
    "\n",
    "\n",
    "\n",
    "if prior_offences == 0:\n",
    "    pass\n",
    "elif prior_offences == 1:\n",
    "    percent = 25\n",
    "    add_percent = (25/100)* extra\n",
    "elif prior_offences == 2:\n",
    "    percent = 40\n",
    "    add_percent = (40/100)* extra\n",
    "elif prior_offences >= 3:\n",
    "    percent = 60\n",
    "    add_percent = (60/100)* extra\n",
    "\n",
    "\n",
    "Total = Base_fine + add_percent + extra\n",
    "print(Total)\n",
    "'''\n",
    "        \n",
    "def everything():\n",
    "    global Base_fine, extra, add_percent\n",
    "    speed_limit = 80\n",
    "    prior_offences = eval(input('Please enter the number of prior offences '))\n",
    "    offender_speed = eval(input('Please enter the offender speed '))\n",
    "    Base_fine = 1000\n",
    "\n",
    "    difference = offender_speed - speed_limit\n",
    "    rat = difference/10\n",
    "    extra = rat*50\n",
    "    \n",
    "    if prior_offences == 0:\n",
    "        pass\n",
    "    elif prior_offences == 1:\n",
    "        percent = 25\n",
    "        add_percent = (25/100)* extra\n",
    "    elif prior_offences == 2:\n",
    "        percent = 40\n",
    "        add_percent = (40/100)* extra\n",
    "    elif prior_offences >= 3:\n",
    "        percent = 60\n",
    "        add_percent = (60/100)* extra\n",
    "\n",
    "everything()\n",
    "Total = Base_fine + add_percent + extra\n",
    "print(Total)"
   ]
  },
  {
   "cell_type": "markdown",
   "metadata": {},
   "source": [
    "## Question 5"
   ]
  },
  {
   "cell_type": "markdown",
   "metadata": {},
   "source": [
    "Regular expressions or regex/regexp in short is a special text string used to describe a search pattern. You can use regex to find and/or replace a specified pattern in a given expression. Regular expressions make finding information a lot easier.\n",
    "\n",
    "You can use a regexp to search through a text file to find email addresses or to verify if email addresses you have received are valid email addresses\n",
    "\n",
    "For more information on regular expressions please read these sources:\n",
    "* Regular Expressions | A Complete Beginners Tutorial https://blog.usejournal.com/regular-expressions-a-complete-beginners-tutorial-c7327b9fd8eb\n",
    "* RE - Regular Expression Operations: https://docs.python.org/3/library/re.html\n",
    "* Regex Cheat Sheet: A Quick Guide to Regular Expressions in Python\n",
    "https://www.dataquest.io/blog/regex-cheatsheet/\n",
    "\n",
    "For this question, assume you have receive the passwords in variable password_list. For each password verify the validity of the password according to the rules of validation listed below. If the password is valid print or return the password along with a message \"password is valid\", if the password is invalid print or return the password along with the message \"password is not valid\".\n",
    "\n",
    "Rules of validation\n",
    "* The password must have atleast 1 (one) letter in the english alphabet \n",
    "* The password must have atleast 1 capitalized letter in the english alphabet\n",
    "* The password must atleast 1 special character from the list of these characters: (%$@^#)\n",
    "* The password must be atleast 7 characters but not exceed 20 characters in length\n",
    "* The password must not be the word: password or contain the user's firstname"
   ]
  },
  {
   "cell_type": "code",
   "execution_count": 2,
   "metadata": {},
   "outputs": [
    {
     "data": {
      "text/plain": [
       "['-',\n",
       " '$O4I2->sk`u.+k})YGq',\n",
       " 'zbxU\"]pgSE3(/z^ju,}9^1FizT.',\n",
       " \"ay=yeC_o'\",\n",
       " \"4Q^C:~YB=7k.oP3(!&'e\",\n",
       " 'O.p|RmE:tR0*ivExsC',\n",
       " '-hYu1G^a',\n",
       " '&~NVP3V,hl1u4{oUTVga',\n",
       " '&Iyo=Azf4Wq&!pijh',\n",
       " 'Mt[x&,,jO@',\n",
       " '@E43J',\n",
       " 'sRe/',\n",
       " '<ra^.l9iKJ4Wr39f(s[F`',\n",
       " \"R)'_=_C6\",\n",
       " '%',\n",
       " '_TJ',\n",
       " '{1%eCR$]C-mws',\n",
       " \"8/+NfBxR'6+n]\\\\?V>r,6}?<Jx\",\n",
       " 'k+k+xN',\n",
       " '4l',\n",
       " 'l<L?TLlhhP`6-cI',\n",
       " '^kv/p:76uEm',\n",
       " 'PK;;',\n",
       " 'c$T',\n",
       " 'Lm`ee.G<,&^e',\n",
       " 'AF',\n",
       " 'OJyts:-<Xc:pjO',\n",
       " 'sR{7=ue%#H.5w)C&gU7|l#4[>FtM4{',\n",
       " 'i\"V>J!?Ax8-*~',\n",
       " '$&7F%FF|aXFU%RONSsFgX$,A?b',\n",
       " '(S2P)t\\\\|i(#Y&X`\";_$@0z',\n",
       " 'yrm',\n",
       " '%\\'h:_R5]U1}Ty\"}',\n",
       " \"MN@J>-_wH/'UG=.\",\n",
       " ':)/,',\n",
       " '\\\\{2g[)aBzQy@_VD9Pj<N/20Wz7+63g',\n",
       " \"M`T!#khyT$;hd'lA3M=N`'{oph\",\n",
       " 'sI@1w2TwO!j*OXh*OeiP$+',\n",
       " 'r',\n",
       " ':mh84Y<',\n",
       " 'DJqP',\n",
       " 'u`Xv)Iz~}9Fsi',\n",
       " 'fF@[FIsm]b]dx|',\n",
       " 'G(OG_e$ac{c8eaxN',\n",
       " \"~kJ$/O9*'Z'3.Wi|U{AD<\",\n",
       " 'yn^0ge|W94|i_v*GUaV!*>-',\n",
       " \"bDXo&'.Fj2HVI8?7$5~`1Rzo!v>Ix\",\n",
       " '`-\"-nEOR3FfOKZZdM[I1',\n",
       " '/7i3u;xS-xo',\n",
       " 'h~',\n",
       " 'g{g<_nF6|Q*CX{u-/f6it',\n",
       " '{{k:=(',\n",
       " 'qh!+%IM]y-',\n",
       " 'h<~plHDLF027h;=J',\n",
       " '|V7wL0<Z!?:j?T%Q>Jkpw6Msl0',\n",
       " '+PU(<y?ghM2E!/^',\n",
       " 'c8{R.\"hY-bX*TmGTi',\n",
       " ':oa',\n",
       " '=h',\n",
       " '@ZK62!R~x[',\n",
       " 'MzzVG%D6y9jd>^?i|j',\n",
       " 'UBI-Fx',\n",
       " 'RkJ-(aL',\n",
       " '9Z4WLA=Z9Xb8K0{HKJs=_Fa#H8',\n",
       " 'c\"c}qlJJNrx',\n",
       " 'G$b@~u&r[Wi`+I0g9y',\n",
       " 'Xst:',\n",
       " \")>g/1xt#.P,8wLkUU8bd,Hp@egyv'|\",\n",
       " 'yG<Hx4',\n",
       " 'n5e?O#^st@2LAB;',\n",
       " 'z%2tL5C5^B$$Y$w.`d',\n",
       " '!:T5O|V|H0wBQGM!&2kZxT-sI|',\n",
       " \"n{NWaK0j'Wi_?|_0yVYX_C<Hw+\",\n",
       " \"=4,0P:x!'Y!6s\",\n",
       " '',\n",
       " '-xwbnr\\\\d,r',\n",
       " '',\n",
       " ',Cf\\\\KgM9{',\n",
       " '7UlSewe\"ba|,dvrl9.&`e<zXO/pK',\n",
       " '?3gOZcH#SI%sei@:GFR^',\n",
       " \"f>|D,KZD$5'QY+\",\n",
       " ';?gGKEReU',\n",
       " '=):LzE;d3sY_4\\\\`mCK',\n",
       " 'IQkvR?TF!w5',\n",
       " 'qlEhd_',\n",
       " 'lGY',\n",
       " 'CM=3',\n",
       " 'JM{y{K,auLdw]`QA-WFUsO|T{F',\n",
       " '',\n",
       " 'TmY1pcEtnZEU6}',\n",
       " '!\\\\V:6$&ywB{DN;W>@)I`u',\n",
       " 'C\"]e<(m!1H8\"-3zV',\n",
       " '/`M(B+Op.d|{\\\\`\"d9Sr',\n",
       " 'AngRGS]',\n",
       " 'o,JB=54rJ|W;@QW(9e)cG',\n",
       " 'W3Iz2#($`NY{~Du=!u\"L$DY4q)+\\\\n',\n",
       " '8BtmH[ywO%e!pa1H',\n",
       " 'CAM\\\\&K#n]UzkShHzIe^#$,',\n",
       " 'ylir_+OM?q/XF@48xR',\n",
       " 'thuRzCpn[(I.ooX}H@;%L']"
      ]
     },
     "execution_count": 2,
     "metadata": {},
     "output_type": "execute_result"
    }
   ],
   "source": [
    "#you only need to run this once as it will generate a list of 100 randomly generated passwords each time you click run\n",
    "import random \n",
    "import string\n",
    "def randompassword(length):\n",
    "    password = string.ascii_letters + string.digits + string.punctuation\n",
    "    return ''.join(random.choice(password) for i in range(length))\n",
    "password_list = [randompassword(random.randint(0,30)) for iter in range(0,100)]\n",
    "password_list"
   ]
  },
  {
   "cell_type": "code",
   "execution_count": 38,
   "metadata": {},
   "outputs": [
    {
     "name": "stdout",
     "output_type": "stream",
     "text": [
      "- -> Password is not valid\n",
      "$O4I2->sk`u.+k})YGq -> Password is valid\n",
      "zbxU\"]pgSE3(/z^ju,}9^1FizT. -> Password is not valid\n",
      "ay=yeC_o' -> Password is not valid\n",
      "4Q^C:~YB=7k.oP3(!&'e -> Password is valid\n",
      "O.p|RmE:tR0*ivExsC -> Password is not valid\n",
      "-hYu1G^a -> Password is valid\n",
      "&~NVP3V,hl1u4{oUTVga -> Password is not valid\n",
      "&Iyo=Azf4Wq&!pijh -> Password is not valid\n",
      "Mt[x&,,jO@ -> Password is valid\n",
      "@E43J -> Password is not valid\n",
      "sRe/ -> Password is not valid\n",
      "<ra^.l9iKJ4Wr39f(s[F` -> Password is not valid\n",
      "R)'_=_C6 -> Password is not valid\n",
      "% -> Password is not valid\n",
      "_TJ -> Password is not valid\n",
      "{1%eCR$]C-mws -> Password is valid\n",
      "8/+NfBxR'6+n]\\?V>r,6}?<Jx -> Password is not valid\n",
      "k+k+xN -> Password is not valid\n",
      "4l -> Password is not valid\n",
      "l<L?TLlhhP`6-cI -> Password is not valid\n",
      "^kv/p:76uEm -> Password is valid\n",
      "PK;; -> Password is not valid\n",
      "c$T -> Password is not valid\n",
      "Lm`ee.G<,&^e -> Password is valid\n",
      "AF -> Password is not valid\n",
      "OJyts:-<Xc:pjO -> Password is not valid\n",
      "sR{7=ue%#H.5w)C&gU7|l#4[>FtM4{ -> Password is not valid\n",
      "i\"V>J!?Ax8-*~ -> Password is not valid\n",
      "$&7F%FF|aXFU%RONSsFgX$,A?b -> Password is not valid\n",
      "(S2P)t\\|i(#Y&X`\";_$@0z -> Password is not valid\n",
      "yrm -> Password is not valid\n",
      "%'h:_R5]U1}Ty\"} -> Password is valid\n",
      "MN@J>-_wH/'UG=. -> Password is valid\n",
      ":)/, -> Password is not valid\n",
      "\\{2g[)aBzQy@_VD9Pj<N/20Wz7+63g -> Password is not valid\n",
      "M`T!#khyT$;hd'lA3M=N`'{oph -> Password is not valid\n",
      "sI@1w2TwO!j*OXh*OeiP$+ -> Password is not valid\n",
      "r -> Password is not valid\n",
      ":mh84Y< -> Password is not valid\n",
      "DJqP -> Password is not valid\n",
      "u`Xv)Iz~}9Fsi -> Password is not valid\n",
      "fF@[FIsm]b]dx| -> Password is valid\n",
      "G(OG_e$ac{c8eaxN -> Password is valid\n",
      "~kJ$/O9*'Z'3.Wi|U{AD< -> Password is not valid\n",
      "yn^0ge|W94|i_v*GUaV!*>- -> Password is not valid\n",
      "bDXo&'.Fj2HVI8?7$5~`1Rzo!v>Ix -> Password is not valid\n",
      "`-\"-nEOR3FfOKZZdM[I1 -> Password is not valid\n",
      "/7i3u;xS-xo -> Password is not valid\n",
      "h~ -> Password is not valid\n",
      "g{g<_nF6|Q*CX{u-/f6it -> Password is not valid\n",
      "{{k:=( -> Password is not valid\n",
      "qh!+%IM]y- -> Password is valid\n",
      "h<~plHDLF027h;=J -> Password is not valid\n",
      "|V7wL0<Z!?:j?T%Q>Jkpw6Msl0 -> Password is not valid\n",
      "+PU(<y?ghM2E!/^ -> Password is valid\n",
      "c8{R.\"hY-bX*TmGTi -> Password is not valid\n",
      ":oa -> Password is not valid\n",
      "=h -> Password is not valid\n",
      "@ZK62!R~x[ -> Password is valid\n",
      "MzzVG%D6y9jd>^?i|j -> Password is valid\n",
      "UBI-Fx -> Password is not valid\n",
      "RkJ-(aL -> Password is not valid\n",
      "9Z4WLA=Z9Xb8K0{HKJs=_Fa#H8 -> Password is not valid\n",
      "c\"c}qlJJNrx -> Password is not valid\n",
      "G$b@~u&r[Wi`+I0g9y -> Password is valid\n",
      "Xst: -> Password is not valid\n",
      ")>g/1xt#.P,8wLkUU8bd,Hp@egyv'| -> Password is not valid\n",
      "yG<Hx4 -> Password is not valid\n",
      "n5e?O#^st@2LAB; -> Password is valid\n",
      "z%2tL5C5^B$$Y$w.`d -> Password is valid\n",
      "!:T5O|V|H0wBQGM!&2kZxT-sI| -> Password is not valid\n",
      "n{NWaK0j'Wi_?|_0yVYX_C<Hw+ -> Password is not valid\n",
      "=4,0P:x!'Y!6s -> Password is not valid\n",
      " -> Password is not valid\n",
      "-xwbnr\\d,r -> Password is not valid\n",
      " -> Password is not valid\n",
      ",Cf\\KgM9{ -> Password is not valid\n",
      "7UlSewe\"ba|,dvrl9.&`e<zXO/pK -> Password is not valid\n",
      "?3gOZcH#SI%sei@:GFR^ -> Password is valid\n",
      "f>|D,KZD$5'QY+ -> Password is valid\n",
      ";?gGKEReU -> Password is not valid\n",
      "=):LzE;d3sY_4\\`mCK -> Password is not valid\n",
      "IQkvR?TF!w5 -> Password is not valid\n",
      "qlEhd_ -> Password is not valid\n",
      "lGY -> Password is not valid\n",
      "CM=3 -> Password is not valid\n",
      "JM{y{K,auLdw]`QA-WFUsO|T{F -> Password is not valid\n",
      " -> Password is not valid\n",
      "TmY1pcEtnZEU6} -> Password is not valid\n",
      "!\\V:6$&ywB{DN;W>@)I`u -> Password is not valid\n",
      "C\"]e<(m!1H8\"-3zV -> Password is not valid\n",
      "/`M(B+Op.d|{\\`\"d9Sr -> Password is not valid\n",
      "AngRGS] -> Password is not valid\n",
      "o,JB=54rJ|W;@QW(9e)cG -> Password is not valid\n",
      "W3Iz2#($`NY{~Du=!u\"L$DY4q)+\\n -> Password is not valid\n",
      "8BtmH[ywO%e!pa1H -> Password is valid\n",
      "CAM\\&K#n]UzkShHzIe^#$, -> Password is not valid\n",
      "ylir_+OM?q/XF@48xR -> Password is valid\n",
      "thuRzCpn[(I.ooX}H@;%L -> Password is not valid\n"
     ]
    }
   ],
   "source": [
    "import re\n",
    "\n",
    "password_test = \"(?=.*[a-zA-Z])(?=.*[A-Z])(?=.*[%$@^#]+)(?=^.{7,20}$)(?!(password|\" + firstname + \")).*$\"\n",
    "\n",
    "for password in password_list:\n",
    "    if(re.match(password_test, password)):\n",
    "        valid_state = \"is valid\"\n",
    "    else:\n",
    "        valid_state = \"is not valid\"\n",
    "    print(password, \"-> Password\", valid_state)"
   ]
  },
  {
   "cell_type": "markdown",
   "metadata": {},
   "source": [
    "## Question 6"
   ]
  },
  {
   "cell_type": "markdown",
   "metadata": {},
   "source": [
    "Write a function that will take in an input of three numerical values and returns the largest and the lowest of these values. Build this funciton without using the Python max() or max() function"
   ]
  },
  {
   "cell_type": "code",
   "execution_count": 30,
   "metadata": {},
   "outputs": [
    {
     "name": "stdout",
     "output_type": "stream",
     "text": [
      "22\n",
      "44\n",
      "66\n",
      "maximum =  66\n",
      "minimum =  22\n"
     ]
    }
   ],
   "source": [
    "a = eval(input())\n",
    "b = eval(input())\n",
    "c = eval(input())\n",
    "\n",
    "if a > b:\n",
    "    if a > c:\n",
    "        maximum = a\n",
    "    else:\n",
    "        maximum = c\n",
    "else:\n",
    "    if b > c:\n",
    "        maximum = b\n",
    "    else:\n",
    "        maximum = c\n",
    "        \n",
    "print ('maximum = ',maximum)\n",
    "\n",
    "\n",
    "if a < b:\n",
    "    if a < c:\n",
    "        minimum = a\n",
    "    else:\n",
    "        minimum = c\n",
    "else:\n",
    "    if b < c:\n",
    "        minimum = b\n",
    "    else:\n",
    "        minimum = c\n",
    "        \n",
    "print('minimum = ',minimum)"
   ]
  },
  {
   "cell_type": "markdown",
   "metadata": {},
   "source": [
    "## Question 7\n"
   ]
  },
  {
   "cell_type": "markdown",
   "metadata": {},
   "source": [
    "Create a function that takes a dictionary of peoples names and then returns a list of all the names in alphabetic order"
   ]
  },
  {
   "cell_type": "code",
   "execution_count": 85,
   "metadata": {},
   "outputs": [
    {
     "name": "stdout",
     "output_type": "stream",
     "text": [
      "['Aaron', 'Naomi', 'Rose', 'mercy']\n"
     ]
    }
   ],
   "source": [
    "peoples_name = {\n",
    "    1: \"Naomi\",\n",
    "    2: \"mercy\",\n",
    "    3: \"Rose\",\n",
    "    4: \"Aaron\"\n",
    "}\n",
    "\n",
    "names = list(peoples_name.values())\n",
    "names.sort()\n",
    "print (names)"
   ]
  },
  {
   "cell_type": "markdown",
   "metadata": {},
   "source": [
    "## Question 8"
   ]
  },
  {
   "cell_type": "markdown",
   "metadata": {},
   "source": [
    "Write a program which will find all numbers which are divisible by 7 but are not a multiple of 5, between 2000 and 4200 (both included)."
   ]
  },
  {
   "cell_type": "code",
   "execution_count": 1,
   "metadata": {},
   "outputs": [
    {
     "name": "stdout",
     "output_type": "stream",
     "text": [
      "2002\n",
      "2009\n",
      "2016\n",
      "2023\n",
      "2037\n",
      "2044\n",
      "2051\n",
      "2058\n",
      "2072\n",
      "2079\n",
      "2086\n",
      "2093\n",
      "2107\n",
      "2114\n",
      "2121\n",
      "2128\n",
      "2142\n",
      "2149\n",
      "2156\n",
      "2163\n",
      "2177\n",
      "2184\n",
      "2191\n",
      "2198\n",
      "2212\n",
      "2219\n",
      "2226\n",
      "2233\n",
      "2247\n",
      "2254\n",
      "2261\n",
      "2268\n",
      "2282\n",
      "2289\n",
      "2296\n",
      "2303\n",
      "2317\n",
      "2324\n",
      "2331\n",
      "2338\n",
      "2352\n",
      "2359\n",
      "2366\n",
      "2373\n",
      "2387\n",
      "2394\n",
      "2401\n",
      "2408\n",
      "2422\n",
      "2429\n",
      "2436\n",
      "2443\n",
      "2457\n",
      "2464\n",
      "2471\n",
      "2478\n",
      "2492\n",
      "2499\n",
      "2506\n",
      "2513\n",
      "2527\n",
      "2534\n",
      "2541\n",
      "2548\n",
      "2562\n",
      "2569\n",
      "2576\n",
      "2583\n",
      "2597\n",
      "2604\n",
      "2611\n",
      "2618\n",
      "2632\n",
      "2639\n",
      "2646\n",
      "2653\n",
      "2667\n",
      "2674\n",
      "2681\n",
      "2688\n",
      "2702\n",
      "2709\n",
      "2716\n",
      "2723\n",
      "2737\n",
      "2744\n",
      "2751\n",
      "2758\n",
      "2772\n",
      "2779\n",
      "2786\n",
      "2793\n",
      "2807\n",
      "2814\n",
      "2821\n",
      "2828\n",
      "2842\n",
      "2849\n",
      "2856\n",
      "2863\n",
      "2877\n",
      "2884\n",
      "2891\n",
      "2898\n",
      "2912\n",
      "2919\n",
      "2926\n",
      "2933\n",
      "2947\n",
      "2954\n",
      "2961\n",
      "2968\n",
      "2982\n",
      "2989\n",
      "2996\n",
      "3003\n",
      "3017\n",
      "3024\n",
      "3031\n",
      "3038\n",
      "3052\n",
      "3059\n",
      "3066\n",
      "3073\n",
      "3087\n",
      "3094\n",
      "3101\n",
      "3108\n",
      "3122\n",
      "3129\n",
      "3136\n",
      "3143\n",
      "3157\n",
      "3164\n",
      "3171\n",
      "3178\n",
      "3192\n",
      "3199\n",
      "3206\n",
      "3213\n",
      "3227\n",
      "3234\n",
      "3241\n",
      "3248\n",
      "3262\n",
      "3269\n",
      "3276\n",
      "3283\n",
      "3297\n",
      "3304\n",
      "3311\n",
      "3318\n",
      "3332\n",
      "3339\n",
      "3346\n",
      "3353\n",
      "3367\n",
      "3374\n",
      "3381\n",
      "3388\n",
      "3402\n",
      "3409\n",
      "3416\n",
      "3423\n",
      "3437\n",
      "3444\n",
      "3451\n",
      "3458\n",
      "3472\n",
      "3479\n",
      "3486\n",
      "3493\n",
      "3507\n",
      "3514\n",
      "3521\n",
      "3528\n",
      "3542\n",
      "3549\n",
      "3556\n",
      "3563\n",
      "3577\n",
      "3584\n",
      "3591\n",
      "3598\n",
      "3612\n",
      "3619\n",
      "3626\n",
      "3633\n",
      "3647\n",
      "3654\n",
      "3661\n",
      "3668\n",
      "3682\n",
      "3689\n",
      "3696\n",
      "3703\n",
      "3717\n",
      "3724\n",
      "3731\n",
      "3738\n",
      "3752\n",
      "3759\n",
      "3766\n",
      "3773\n",
      "3787\n",
      "3794\n",
      "3801\n",
      "3808\n",
      "3822\n",
      "3829\n",
      "3836\n",
      "3843\n",
      "3857\n",
      "3864\n",
      "3871\n",
      "3878\n",
      "3892\n",
      "3899\n",
      "3906\n",
      "3913\n",
      "3927\n",
      "3934\n",
      "3941\n",
      "3948\n",
      "3962\n",
      "3969\n",
      "3976\n",
      "3983\n",
      "3997\n",
      "4004\n",
      "4011\n",
      "4018\n",
      "4032\n",
      "4039\n",
      "4046\n",
      "4053\n",
      "4067\n",
      "4074\n",
      "4081\n",
      "4088\n",
      "4102\n",
      "4109\n",
      "4116\n",
      "4123\n",
      "4137\n",
      "4144\n",
      "4151\n",
      "4158\n",
      "4172\n",
      "4179\n",
      "4186\n",
      "4193\n",
      "4207\n",
      "4214\n",
      "4221\n",
      "4228\n",
      "4242\n",
      "4249\n",
      "4256\n",
      "4263\n",
      "4277\n",
      "4284\n",
      "4291\n",
      "4298\n"
     ]
    }
   ],
   "source": [
    "for i in range(2000,4300):\n",
    "    if i % 7 == 0 and i % 5 != 0:\n",
    "        print(i)\n"
   ]
  },
  {
   "cell_type": "markdown",
   "metadata": {},
   "source": [
    "## Question 9"
   ]
  },
  {
   "cell_type": "markdown",
   "metadata": {},
   "source": [
    "Write a program which accepts a sequence of comma-separated numbers and then generates a list which contains every number in the sequence.\n",
    "\n",
    "Suppose the following input is supplied to the program:\n",
    "\n",
    "**sequence = '34,67,55,33,12,98'**\n",
    "\n",
    "Then, the output should be:\n",
    "\n",
    "**[34,67,55,33,12,98]**"
   ]
  },
  {
   "cell_type": "code",
   "execution_count": 22,
   "metadata": {},
   "outputs": [],
   "source": [
    "sequence = ';99,100,2,3,4,6,7,12,35,65,76,8,989,0,9,2,12,1,67,55,33,12,98;'"
   ]
  },
  {
   "cell_type": "code",
   "execution_count": 6,
   "metadata": {},
   "outputs": [
    {
     "name": "stdout",
     "output_type": "stream",
     "text": [
      "[]\n"
     ]
    }
   ],
   "source": [
    "sequence = ';99,100,2,3,4,6,7,12,35,65,76,8,989,0,9,2,12,1,67,55,33,12,98;'\n",
    "thislist = []\n",
    "print (thislist)\n"
   ]
  },
  {
   "cell_type": "code",
   "execution_count": 7,
   "metadata": {},
   "outputs": [
    {
     "name": "stdout",
     "output_type": "stream",
     "text": [
      "[';99,100,2,3,4,6,7,12,35,65,76,8,989,0,9,2,12,1,67,55,33,12,98;']\n"
     ]
    }
   ],
   "source": [
    "thislist.append(sequence)\n",
    "print (thislist)"
   ]
  },
  {
   "cell_type": "markdown",
   "metadata": {},
   "source": [
    "## Question 10"
   ]
  },
  {
   "cell_type": "markdown",
   "metadata": {},
   "source": [
    "Write a program that translates the following words into any words of a language of your choosing and prints out a message notifying the end user of the language the words have been translated to"
   ]
  },
  {
   "cell_type": "code",
   "execution_count": 13,
   "metadata": {},
   "outputs": [],
   "source": [
    "#Enter your answer here:\n",
    "words = ['hello','this','that','there','where','who','how','start','stop','line','think','dream']"
   ]
  },
  {
   "cell_type": "code",
   "execution_count": 47,
   "metadata": {},
   "outputs": [
    {
     "name": "stdout",
     "output_type": "stream",
     "text": [
      "Enter a word hello\n",
      "sannu \n",
      "Language: Hausa\n"
     ]
    }
   ],
   "source": [
    "translations = {\n",
    "    'hello' : 'sannu',\n",
    "    'this' : 'wannan',\n",
    "    'that' : 'wancan',\n",
    "    'there' : 'can',\n",
    "    'where' : 'ina',\n",
    "    'who' : 'wayai',\n",
    "    'how' : 'yaya',\n",
    "    'start' : 'fara',\n",
    "    'stop' : 'tsaya',\n",
    "    'line' : 'layi',\n",
    "    'think' : 'tunani',\n",
    "    'dream' : 'mafarki'\n",
    "}\n",
    "\n",
    "inp = input(\"Enter a word \");\n",
    "print(translations[inp], \"\\nLanguage: Hausa\");"
   ]
  }
 ],
 "metadata": {
  "kernelspec": {
   "display_name": "Python 3",
   "language": "python",
   "name": "python3"
  },
  "language_info": {
   "codemirror_mode": {
    "name": "ipython",
    "version": 3
   },
   "file_extension": ".py",
   "mimetype": "text/x-python",
   "name": "python",
   "nbconvert_exporter": "python",
   "pygments_lexer": "ipython3",
   "version": "3.7.0"
  }
 },
 "nbformat": 4,
 "nbformat_minor": 2
}
